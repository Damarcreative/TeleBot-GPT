{
  "nbformat": 4,
  "nbformat_minor": 0,
  "metadata": {
    "colab": {
      "provenance": []
    },
    "kernelspec": {
      "name": "python3",
      "display_name": "Python 3"
    },
    "language_info": {
      "name": "python"
    }
  },
  "cells": [
    {
      "cell_type": "code",
      "execution_count": null,
      "metadata": {
        "id": "wcEi8utZVTAY"
      },
      "outputs": [],
      "source": [
        "pip install pyTelegramBotAPI"
      ]
    },
    {
      "cell_type": "code",
      "source": [
        "pip install openai"
      ],
      "metadata": {
        "id": "j5H8KEeLVUNd"
      },
      "execution_count": null,
      "outputs": []
    },
    {
      "cell_type": "code",
      "source": [
        "import telebot\n",
        "import openai\n",
        "\n",
        "from telebot import types"
      ],
      "metadata": {
        "id": "4J12-AOvVbMb"
      },
      "execution_count": null,
      "outputs": []
    },
    {
      "cell_type": "code",
      "source": [
        "openai.api_key = \"sk-6frzPijQ********************ZL4WT0LTS5qV\"\n",
        "api = '576****353:AAHbl*****pT58o-DEUU******Elf6s0'\n",
        "bot = telebot.TeleBot(api)\n",
        "\n",
        "def rsp(question):\n",
        "  prmt = \"Q: {qst}\\nA:\".format(qst=question)\n",
        "  response = openai.Completion.create(model=\"text-davinci-003\",\n",
        "                                      prompt=prmt,\n",
        "                                      temperature=0,\n",
        "                                      max_tokens=500,\n",
        "                                      top_p=1.0,\n",
        "                                      frequency_penalty=0.0,\n",
        "                                      presence_penalty=0.0)\n",
        "  return response.choices[0].text\n",
        "\n",
        "\n",
        "@bot.message_handler(commands=['start', 'help', 'about'])\n",
        "def send_welcome(message):\n",
        "  bot.send_message(\n",
        "    message.chat.id,\n",
        "    'use /ask followed by a question or statement to generate a response')\n",
        "\n",
        "\n",
        "@bot.message_handler(func=lambda message: True)\n",
        "def echo_message(message):\n",
        "  msg = message.text\n",
        "  #print(msg)\n",
        "  response = rsp(msg)\n",
        "  #print(response)\n",
        "  bot.send_message(message.chat.id, response)\n",
        "\n",
        "\n",
        "print('bot start running')\n",
        "bot.polling()\n"
      ],
      "metadata": {
        "id": "OpQUpMwrVeKl"
      },
      "execution_count": null,
      "outputs": []
    }
  ]
}